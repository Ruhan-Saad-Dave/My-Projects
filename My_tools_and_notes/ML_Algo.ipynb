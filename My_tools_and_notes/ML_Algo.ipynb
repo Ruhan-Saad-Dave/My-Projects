{
  "nbformat": 4,
  "nbformat_minor": 0,
  "metadata": {
    "colab": {
      "provenance": [],
      "authorship_tag": "ABX9TyMaNxmZ2vGRdIuA0j0Rf2/A",
      "include_colab_link": true
    },
    "kernelspec": {
      "name": "python3",
      "display_name": "Python 3"
    },
    "language_info": {
      "name": "python"
    }
  },
  "cells": [
    {
      "cell_type": "markdown",
      "metadata": {
        "id": "view-in-github",
        "colab_type": "text"
      },
      "source": [
        "<a href=\"https://colab.research.google.com/github/Ruhan-Saad-Dave/My-Projects/blob/main0/ML_Algo.ipynb\" target=\"_parent\"><img src=\"https://colab.research.google.com/assets/colab-badge.svg\" alt=\"Open In Colab\"/></a>"
      ]
    },
    {
      "cell_type": "markdown",
      "source": [
        "#Introduction"
      ],
      "metadata": {
        "id": "daso0XkCS4gV"
      }
    },
    {
      "cell_type": "markdown",
      "source": [
        "This notebook contains all the machine learning model to use in the future."
      ],
      "metadata": {
        "id": "JethHO8LS-Am"
      }
    },
    {
      "cell_type": "markdown",
      "source": [
        "#Regression"
      ],
      "metadata": {
        "id": "nlg4W4LnPjSW"
      }
    },
    {
      "cell_type": "markdown",
      "source": [
        "##Simple Linear Regression"
      ],
      "metadata": {
        "id": "ePDW_do0Pmha"
      }
    },
    {
      "cell_type": "markdown",
      "source": [
        "* y^ = b0 + b1*x1, b0 = intercept, b1 = slope;\n",
        "* residual = yi - yi^ ;\n",
        "\n",
        "Ordinary Least Squares:\n",
        "* b0, b1 such that SUM(residual)^2 is minimized"
      ],
      "metadata": {
        "id": "Yw7vI_UUP29F"
      }
    },
    {
      "cell_type": "markdown",
      "source": [
        "###Importing the libraries"
      ],
      "metadata": {
        "id": "iezUaJ2aQ3Th"
      }
    },
    {
      "cell_type": "code",
      "execution_count": 1,
      "metadata": {
        "id": "O-lgqZIePTu3"
      },
      "outputs": [],
      "source": [
        "import numpy as np\n",
        "import pandas as pd\n",
        "import matplotlib.pyplot as plt\n",
        "import seaborn as sns\n",
        "from sklearn.model_selection import train_test_split\n"
      ]
    },
    {
      "cell_type": "markdown",
      "source": [
        "###Importing the dataset"
      ],
      "metadata": {
        "id": "1XGHIXhvRQT9"
      }
    },
    {
      "cell_type": "code",
      "source": [
        "dataset = pd.read_csv('Salary_Data.csv')\n",
        "X = dataset.iloc[:, :-1].values\n",
        "y = dataset.iloc[:, -1].values"
      ],
      "metadata": {
        "id": "zesrpc3TRTTL"
      },
      "execution_count": 2,
      "outputs": []
    },
    {
      "cell_type": "markdown",
      "source": [
        "###Splitting to train and test sets"
      ],
      "metadata": {
        "id": "BCDFdA5qRjdx"
      }
    },
    {
      "cell_type": "code",
      "source": [
        "X_train, X_test, y_train, y_test = train_test_split(X,y, test_size = 0.2, random_state = 0)"
      ],
      "metadata": {
        "id": "UWg13_RsRpCS"
      },
      "execution_count": 5,
      "outputs": []
    },
    {
      "cell_type": "markdown",
      "source": [
        "###Training the Simple Linear Regression Model on the Training set"
      ],
      "metadata": {
        "id": "l_h9_2_VR9JU"
      }
    },
    {
      "cell_type": "code",
      "source": [
        "from sklearn.linear_model import LinearRegression\n",
        "regressor = LinearRegression()\n",
        "regressor.fit(X_train, y_train)\n",
        "#Training done"
      ],
      "metadata": {
        "id": "YsjFSkjwSEFB"
      },
      "execution_count": null,
      "outputs": []
    },
    {
      "cell_type": "markdown",
      "source": [
        "###Predicting the Test sets results"
      ],
      "metadata": {
        "id": "Ej4x1JhxT1nY"
      }
    },
    {
      "cell_type": "code",
      "source": [
        "y_pred = regressor.predict(X_test)"
      ],
      "metadata": {
        "id": "BqeJME3-T55g"
      },
      "execution_count": 9,
      "outputs": []
    },
    {
      "cell_type": "markdown",
      "source": [
        "###Visualising the training sets"
      ],
      "metadata": {
        "id": "ZN7Ax6OcWh0H"
      }
    },
    {
      "cell_type": "code",
      "source": [
        "plt.scatter(X_train, y_train, color = 'red')\n",
        "plt.plot(X_train, regressor.predict(X_train), color = 'blue')\n",
        "plt.xlabel('Year of experience')\n",
        "plt.ylabel('Salaries')\n",
        "plt.title('Training set')\n",
        "plt.show()"
      ],
      "metadata": {
        "id": "-a3bnvY_WnND"
      },
      "execution_count": null,
      "outputs": []
    },
    {
      "cell_type": "markdown",
      "source": [
        "###Visualising the testing sets"
      ],
      "metadata": {
        "id": "Vhnb-xkaXZMy"
      }
    },
    {
      "cell_type": "code",
      "source": [
        "plt.scatter(X_test, y_test, color = 'red')\n",
        "plt.plot(X_test, y_pred, color = 'blue')    #Will get same regression line with train and test\n",
        "plt.xlabel('Year of experience')\n",
        "plt.ylabel('Salaries')\n",
        "plt.title('Testing set')\n",
        "plt.show()"
      ],
      "metadata": {
        "id": "A47IG3DwXgTS"
      },
      "execution_count": null,
      "outputs": []
    }
  ]
}